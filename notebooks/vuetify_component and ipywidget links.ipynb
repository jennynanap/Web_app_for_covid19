{
 "cells": [
  {
   "cell_type": "code",
   "execution_count": 1,
   "metadata": {},
   "outputs": [],
   "source": [
    "import ipyvuetify as v\n",
    "from bqplot import pyplot as plt\n",
    "import ipywidgets as widgets\n",
    "import numpy as np"
   ]
  },
  {
   "cell_type": "markdown",
   "metadata": {},
   "source": [
    "# vuetify component"
   ]
  },
  {
   "cell_type": "code",
   "execution_count": 2,
   "metadata": {},
   "outputs": [
    {
     "data": {
      "application/vnd.jupyter.widget-view+json": {
       "model_id": "ee0ed3df977f4e6ba67821a378b76714",
       "version_major": 2,
       "version_minor": 0
      },
      "text/plain": [
       "Btn(block=True, children=['test'], color='green', outlined=True)"
      ]
     },
     "metadata": {},
     "output_type": "display_data"
    }
   ],
   "source": [
    "button =  v.Btn(color='green',\n",
    "                outlined=True,\n",
    "                children=['test'],\n",
    "               block=True)   \n",
    "button"
   ]
  },
  {
   "cell_type": "code",
   "execution_count": 3,
   "metadata": {},
   "outputs": [
    {
     "data": {
      "application/vnd.jupyter.widget-view+json": {
       "model_id": "5f70c21a7d4a472397c0213c7424c464",
       "version_major": 2,
       "version_minor": 0
      },
      "text/plain": [
       "TextField(label='phone', outlined=True, placeholder='Please input yout number')"
      ]
     },
     "metadata": {},
     "output_type": "display_data"
    }
   ],
   "source": [
    "textfield =  v.TextField(outlined=True,label='phone',placeholder='Please input yout number')   \n",
    "textfield"
   ]
  },
  {
   "cell_type": "code",
   "execution_count": 4,
   "metadata": {},
   "outputs": [
    {
     "data": {
      "application/vnd.jupyter.widget-view+json": {
       "model_id": "7443a090144b475e8a859a28b6542f06",
       "version_major": 2,
       "version_minor": 0
      },
      "text/plain": [
       "Figure(axes=[Axis(orientation='vertical', scale=LinearScale()), Axis(scale=LinearScale())], fig_margin={'top':…"
      ]
     },
     "metadata": {},
     "output_type": "display_data"
    }
   ],
   "source": [
    "# generate some fake \n",
    "n = 2000\n",
    "x = np.linspace(0.0, 10.0, n)\n",
    "np.random.seed(0)\n",
    "y = np.cumsum(np.random.randn(n)*10).astype(int)\n",
    "fig_hist = plt.figure( title='Histogram at Scipy')\n",
    "hist = plt.hist(y, bins=25)\n",
    "fig_hist"
   ]
  },
  {
   "cell_type": "code",
   "execution_count": 5,
   "metadata": {},
   "outputs": [
    {
     "data": {
      "application/vnd.jupyter.widget-view+json": {
       "model_id": "a583b668490e41da9d0be57c6d3745b1",
       "version_major": 2,
       "version_minor": 0
      },
      "text/plain": [
       "Card(children=[CardText(children=['title']), Figure(axes=[Axis(orientation='vertical', scale=LinearScale(), si…"
      ]
     },
     "metadata": {},
     "output_type": "display_data"
    }
   ],
   "source": [
    "card = v.Card(raised=True, shaped=True, children=[\n",
    "                v.CardText(children=['title']),\n",
    "    fig_hist\n",
    "    \n",
    "            ])\n",
    "card"
   ]
  },
  {
   "cell_type": "markdown",
   "metadata": {},
   "source": [
    "# container and layout"
   ]
  },
  {
   "cell_type": "code",
   "execution_count": 6,
   "metadata": {},
   "outputs": [
    {
     "data": {
      "application/vnd.jupyter.widget-view+json": {
       "model_id": "b906033e4bb643a187aab3e136e95ef1",
       "version_major": 2,
       "version_minor": 0
      },
      "text/plain": [
       "Container(children=[Card(children=[CardText(children=['title']), Figure(axes=[Axis(orientation='vertical', sca…"
      ]
     },
     "metadata": {},
     "output_type": "display_data"
    }
   ],
   "source": [
    "app1 = v.Container( children=[\n",
    "#       center_content, navbar\n",
    "     card,button,textfield\n",
    "])\n",
    "\n",
    "app1"
   ]
  },
  {
   "cell_type": "code",
   "execution_count": 7,
   "metadata": {},
   "outputs": [
    {
     "data": {
      "application/vnd.jupyter.widget-view+json": {
       "model_id": "86b6ad3ebdbb47708be8f1a33be478d7",
       "version_major": 2,
       "version_minor": 0
      },
      "text/plain": [
       "Container(children=[Row(children=[Col(children=[Card(children=[CardText(children=['title']), Figure(axes=[Axis…"
      ]
     },
     "metadata": {},
     "output_type": "display_data"
    }
   ],
   "source": [
    "center_content = v.Row(children=[\n",
    "        v.Col(cols=\"12\", children=[card]),\n",
    "        v.Col(cols=\"6\", children=[button]),\n",
    "        v.Col(cols=\"6\", children=[textfield]),\n",
    "    ])\n",
    "\n",
    "\n",
    "app2 = v.Container( children=[\n",
    "    center_content\n",
    "])\n",
    "\n",
    "app2"
   ]
  },
  {
   "cell_type": "code",
   "execution_count": 8,
   "metadata": {},
   "outputs": [
    {
     "data": {
      "application/vnd.jupyter.widget-view+json": {
       "model_id": "0c76556341d148719ad2ac35af4c0e2b",
       "version_major": 2,
       "version_minor": 0
      },
      "text/plain": [
       "Container(children=[Row(children=[Col(children=[Col(children=[Btn(block=True, children=['test'], color='green'…"
      ]
     },
     "metadata": {},
     "output_type": "display_data"
    }
   ],
   "source": [
    "center_content2 = v.Row(children=[\n",
    "        v.Col(cols=\"6\", children=[\n",
    "                v.Col(cols=\"12\", children=[button]),\n",
    "                v.Col(cols=\"12\", children=[textfield]),\n",
    "        ]),\n",
    "        v.Col(cols=\"6\", children=[card]),\n",
    "    ])\n",
    "\n",
    "app3 = v.Container( children=[\n",
    "    center_content2\n",
    "])\n",
    "\n",
    "app3"
   ]
  },
  {
   "cell_type": "markdown",
   "metadata": {},
   "source": [
    "# ipywidget links"
   ]
  },
  {
   "cell_type": "code",
   "execution_count": 9,
   "metadata": {
    "scrolled": true
   },
   "outputs": [
    {
     "data": {
      "application/vnd.jupyter.widget-view+json": {
       "model_id": "514b08bbd3a84c43a5c10a6208823bf6",
       "version_major": 2,
       "version_minor": 0
      },
      "text/plain": [
       "Slider(thumb_label='always', v_model=30)"
      ]
     },
     "metadata": {},
     "output_type": "display_data"
    }
   ],
   "source": [
    "slider = v.Slider(\n",
    "    thumb_label='always',\n",
    "                  #class_=\"px-4\", \n",
    "                  v_model=30\n",
    ")\n",
    "slider"
   ]
  },
  {
   "cell_type": "code",
   "execution_count": 10,
   "metadata": {},
   "outputs": [
    {
     "data": {
      "text/plain": [
       "<traitlets.traitlets.link at 0x2159fdb9ac8>"
      ]
     },
     "execution_count": 10,
     "metadata": {},
     "output_type": "execute_result"
    }
   ],
   "source": [
    "widgets.link((slider, 'v_model'), (hist, 'bins'))"
   ]
  },
  {
   "cell_type": "code",
   "execution_count": null,
   "metadata": {},
   "outputs": [],
   "source": []
  },
  {
   "cell_type": "code",
   "execution_count": null,
   "metadata": {},
   "outputs": [],
   "source": []
  }
 ],
 "metadata": {
  "kernelspec": {
   "display_name": "Python 3",
   "language": "python",
   "name": "python3"
  },
  "language_info": {
   "codemirror_mode": {
    "name": "ipython",
    "version": 3
   },
   "file_extension": ".py",
   "mimetype": "text/x-python",
   "name": "python",
   "nbconvert_exporter": "python",
   "pygments_lexer": "ipython3",
   "version": "3.7.1"
  }
 },
 "nbformat": 4,
 "nbformat_minor": 4
}
