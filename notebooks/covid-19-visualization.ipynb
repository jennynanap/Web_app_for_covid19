{
 "cells": [
  {
   "cell_type": "markdown",
   "metadata": {},
   "source": [
    "# COVID-19 Visualization"
   ]
  },
  {
   "cell_type": "code",
   "execution_count": 1,
   "metadata": {
    "_cell_guid": "79c7e3d0-c299-4dcb-8224-4455121ee9b0",
    "_kg_hide-input": true,
    "_uuid": "d629ff2d2480ee46fbb7e2d37f6b5fab8052498a"
   },
   "outputs": [],
   "source": [
    "import pandas as pd\n",
    "import numpy as np\n",
    "#import seaborn as sns\n",
    "#from matplotlib import pyplot as plt\n",
    "#import plotly.graph_objects as go\n",
    "#import plotly.express as px"
   ]
  },
  {
   "cell_type": "markdown",
   "metadata": {},
   "source": [
    "# Data Import, Preprocessing"
   ]
  },
  {
   "cell_type": "code",
   "execution_count": 2,
   "metadata": {
    "_kg_hide-input": true
   },
   "outputs": [],
   "source": [
    "df = pd.read_csv('../data/raw/covid_19_data.csv',parse_dates=['Last Update'])\n",
    "df.rename(columns={'ObservationDate':'Date', 'Country/Region':'Country'}, inplace=True)"
   ]
  },
  {
   "cell_type": "code",
   "execution_count": 3,
   "metadata": {},
   "outputs": [],
   "source": [
    "confirmed_grp = df.groupby('Date').sum()['Confirmed'].reset_index()\n",
    "deaths_grp = df.groupby('Date').sum()['Deaths'].reset_index()\n",
    "recovered_grp = df.groupby('Date').sum()['Recovered'].reset_index()\n",
    "\n",
    "confirmed_grp['shift'] = confirmed_grp['Confirmed'].shift()\n",
    "confirmed_grp['increased'] = confirmed_grp['Confirmed']-confirmed_grp['shift']\n",
    "confirmed_y = confirmed_grp['increased'].to_numpy()\n",
    "\n",
    "deaths_grp['shift'] = deaths_grp['Deaths'].shift()\n",
    "deaths_grp['increased'] = deaths_grp['Deaths']-deaths_grp['shift']\n",
    "deaths_y = deaths_grp['increased'].to_numpy()\n",
    "\n",
    "recovered_grp['shift'] = recovered_grp['Recovered'].shift()\n",
    "recovered_grp['increased'] = recovered_grp['Recovered']-recovered_grp['shift']\n",
    "recovered_y = recovered_grp['increased'].to_numpy()\n",
    "\n",
    "dates = np.arange('2020-01-22', '2020-03-19', dtype='datetime64[D]')"
   ]
  },
  {
   "cell_type": "markdown",
   "metadata": {},
   "source": [
    "# Start Vuetify"
   ]
  },
  {
   "cell_type": "code",
   "execution_count": 4,
   "metadata": {},
   "outputs": [],
   "source": [
    "from typing import List\n",
    "from IPython.display import display, clear_output\n",
    "import ipywidgets as widgets\n",
    "import ipyvuetify as v\n",
    "import traitlets\n",
    "from traitlets import Int, Float, Unicode, Bool\n",
    "import bqplot.pyplot as plt\n",
    "from bqplot import DateScale"
   ]
  },
  {
   "cell_type": "markdown",
   "metadata": {},
   "source": [
    "# Model"
   ]
  },
  {
   "cell_type": "code",
   "execution_count": 5,
   "metadata": {},
   "outputs": [],
   "source": [
    "class Model(traitlets.HasTraits):\n",
    "    confirmed = Bool(True)\n",
    "    deaths = Bool(False)\n",
    "    recovered = Bool(False)\n",
    "\n",
    "model = Model()\n"
   ]
  },
  {
   "cell_type": "markdown",
   "metadata": {},
   "source": [
    "# View"
   ]
  },
  {
   "cell_type": "code",
   "execution_count": 6,
   "metadata": {},
   "outputs": [],
   "source": [
    "confirmed_checkbox = v.Checkbox(v_model=False, label='Confirmed')\n",
    "deaths_checkbox = v.Checkbox(v_model=False, label='Deaths')\n",
    "recovered_checkbox = v.Checkbox(v_model=False, label='Recovered')"
   ]
  },
  {
   "cell_type": "markdown",
   "metadata": {},
   "source": [
    "# Scenario"
   ]
  },
  {
   "cell_type": "code",
   "execution_count": 7,
   "metadata": {},
   "outputs": [],
   "source": [
    "\n",
    "\n",
    "def scenario(confirmed = False, deaths= False, recovered = False):\n",
    "    \n",
    "    # Report input assumptions\n",
    "    scenario_conditions = [\n",
    "        f'confirmed: {\"yes\" if confirmed else \"no\"}',\n",
    "        f'deaths: {\"yes\" if deaths else \"no\"}',\n",
    "        f'recovered: {\"yes\" if recovered else \"no\"}',\n",
    "        \n",
    "        \n",
    "    ]\n",
    "    fig = plt.figure(title='Worldwide Corona Virus Cases - Confirmed, Deaths, Recovered', \n",
    "                )\n",
    "    if confirmed:\n",
    "        plt.plot(dates, confirmed_grp.Confirmed,  #axes_options=axes_options,\n",
    "                'g-.s', labels=['Confirmed']) # third argument is the marker string      \n",
    "        \n",
    "    if deaths:\n",
    "        plt.plot(dates, deaths_grp.Deaths,  #axes_options=axes_options,\n",
    "                'm:d',labels=['Deaths'])\n",
    "    if recovered:\n",
    "        plt.plot(dates, recovered_grp.Recovered,  #axes_options=axes_options,\n",
    "                'b-.s',labels=['Recovered']) \n",
    "    plt.xlabel('Date')\n",
    "    plt.ylabel('Number of Cases')\n",
    "    plt.legend()\n",
    "    selector = plt.brush_int_selector()\n",
    "    \n",
    "    \n",
    "    return fig, scenario_conditions, selector"
   ]
  },
  {
   "cell_type": "code",
   "execution_count": 8,
   "metadata": {},
   "outputs": [],
   "source": [
    "y = []\n",
    "colors = []\n",
    "\n",
    "def create_grp(confirmed = False, deaths= False, recovered = False):\n",
    "    fig_hist = plt.figure()\n",
    "    y.clear()\n",
    "    colors.clear()\n",
    "    if confirmed:\n",
    "        y.append(confirmed_y)\n",
    "        colors.append('green')\n",
    "    if deaths:\n",
    "        y.append(deaths_y)\n",
    "        colors.append('magenta')\n",
    "    if recovered:\n",
    "        y.append(recovered_y)\n",
    "        colors.append('blue')\n",
    "  \n",
    "    plt.bar(dates,y,padding=0.2, type='grouped',colors=colors)\n",
    "  \n",
    "    return fig_hist\n",
    "\n",
    "def update_grp(mask):\n",
    "    new_y = [e[mask] for e in y]\n",
    "    plt.clear()\n",
    "    bar = plt.bar(dates[mask],new_y,padding=0.2, type='grouped',colors=colors)"
   ]
  },
  {
   "cell_type": "markdown",
   "metadata": {},
   "source": [
    "# Layout"
   ]
  },
  {
   "cell_type": "code",
   "execution_count": 9,
   "metadata": {},
   "outputs": [],
   "source": [
    "def make_card(title=\"Title\", children=[]):\n",
    "    card_content = v.CardText(children=children)\n",
    "    return (\n",
    "        v.Card(outlined=True, tile=True, #class_='ma-1 pa-2', \n",
    "            children=[\n",
    "                v.CardTitle(children=[title]),\n",
    "                card_content\n",
    "            ]),\n",
    "        card_content\n",
    "    )\n",
    "\n",
    "def make_control(title, children):\n",
    "    return (\n",
    "        v.Card(flat=True, #class_='ma-1 pa-2', \n",
    "            children=[\n",
    "                v.CardText(children=[title]),\n",
    "                v.CardText(children=children)\n",
    "            ])\n",
    "        )\n",
    "\n",
    "# To be used in the presentation section\n",
    "def make_infobox(scenario_conditions):\n",
    "    return [\n",
    "        v.List(children=[\n",
    "            v.ListItem(children=[line])\n",
    "            for line in scenario_conditions\n",
    "        ])\n",
    "    ]\n",
    "\n",
    "\n",
    "cc =  make_control('Confirmed', [confirmed_checkbox])\n",
    "dc = make_control('Deaths', [deaths_checkbox])\n",
    "rc = make_control('Recovered', [recovered_checkbox])\n",
    "\n",
    "conditions_infobox, cic = make_card('Scenario assumptions')\n",
    "covid_chart_box, ccb = make_card('Worldwide Corona Virus Cases - Confirmed, Deaths, Recovered', [widgets.Output()])\n",
    "grp_chart_box, gcb = make_card('Group Bar Chart', [widgets.Output()])"
   ]
  },
  {
   "cell_type": "code",
   "execution_count": 10,
   "metadata": {},
   "outputs": [],
   "source": [
    "center_content = v.Col(dense=True, children=[\n",
    "            v.Row(children=[\n",
    "                v.Col(cols=\"3\", children=[\n",
    "                    cc\n",
    "                ]),\n",
    "                  v.Col(cols=\"3\", children=[\n",
    "                    dc\n",
    "                ]),\n",
    "                  v.Col(cols=\"3\", children=[\n",
    "                    rc\n",
    "                ])\n",
    "            ]),\n",
    "            v.Row(children=[\n",
    "                v.Col(cols=\"12\", children=[\n",
    "                    covid_chart_box\n",
    "                ])\n",
    "            ]),\n",
    "            v.Row(children=[\n",
    "                v.Col(cols=\"12\", children=[\n",
    "                    grp_chart_box\n",
    "                ])\n",
    "            ]),\n",
    "            v.Row(children=[\n",
    "                v.Col(cols=\"12\", children=[\n",
    "                    conditions_infobox\n",
    "                ])\n",
    "            ])\n",
    "])\n",
    "\n",
    "\n",
    "app = v.Container(_metadata={'mount_id': 'content-main'}, children=[\n",
    "     center_content\n",
    "])\n"
   ]
  },
  {
   "cell_type": "markdown",
   "metadata": {},
   "source": [
    "# Render"
   ]
  },
  {
   "cell_type": "code",
   "execution_count": 11,
   "metadata": {},
   "outputs": [],
   "source": [
    "# selector = None\n",
    "def render_scenario(change):\n",
    "    def update_range(*ignore):\n",
    "        if selector.selected is not None and len(selector.selected) == 2:\n",
    "            xmin, xmax = selector.selected\n",
    "            mask = (dates > xmin) & (dates < xmax)\n",
    "            update_grp(mask)\n",
    "            \n",
    "    with model.hold_trait_notifications():\n",
    "        (\n",
    "          fig, \n",
    "          scenario_conditions, \n",
    "          selector\n",
    "        ) = scenario(\n",
    "                confirmed = model.confirmed,\n",
    "                deaths  = model.deaths,\n",
    "                recovered  = model.recovered,\n",
    "                )    \n",
    "       \n",
    "       \n",
    "        cic.children = make_infobox(scenario_conditions)\n",
    "        with ccb.children[0]:\n",
    "            clear_output(wait=True)\n",
    "            display(fig)\n",
    "           \n",
    "        \n",
    "        with gcb.children[0]:\n",
    "            clear_output(wait=True)\n",
    "            fig_hist = create_grp(confirmed = model.confirmed,deaths = model.deaths,recovered = model.recovered)\n",
    "            display(fig_hist)\n",
    "            selector.observe(update_range, 'selected')  \n",
    "\n",
    "            \n",
    "model.observe(render_scenario, traitlets.All)\n"
   ]
  },
  {
   "cell_type": "code",
   "execution_count": 12,
   "metadata": {},
   "outputs": [],
   "source": [
    "traitlets.link(\n",
    "    (model, 'confirmed'), (confirmed_checkbox, 'v_model')\n",
    ");\n",
    "\n",
    "traitlets.link(\n",
    "    (model, 'deaths'), (deaths_checkbox, 'v_model')\n",
    ");\n",
    "traitlets.link(\n",
    "    (model, 'recovered'), (recovered_checkbox, 'v_model')\n",
    ");"
   ]
  },
  {
   "cell_type": "code",
   "execution_count": 13,
   "metadata": {
    "scrolled": true
   },
   "outputs": [
    {
     "data": {
      "application/vnd.jupyter.widget-view+json": {
       "model_id": "f9c5349950e9446296ffa43a4462a728",
       "version_major": 2,
       "version_minor": 0
      },
      "text/plain": [
       "Container(children=[Col(children=[Row(children=[Col(children=[Card(children=[CardText(children=['Confirmed']),…"
      ]
     },
     "metadata": {},
     "output_type": "display_data"
    }
   ],
   "source": [
    "render_scenario('')\n",
    "\n",
    "app\n"
   ]
  },
  {
   "cell_type": "code",
   "execution_count": null,
   "metadata": {},
   "outputs": [],
   "source": []
  }
 ],
 "metadata": {
  "kernelspec": {
   "display_name": "Python 3",
   "language": "python",
   "name": "python3"
  },
  "language_info": {
   "codemirror_mode": {
    "name": "ipython",
    "version": 3
   },
   "file_extension": ".py",
   "mimetype": "text/x-python",
   "name": "python",
   "nbconvert_exporter": "python",
   "pygments_lexer": "ipython3",
   "version": "3.7.1"
  }
 },
 "nbformat": 4,
 "nbformat_minor": 4
}
